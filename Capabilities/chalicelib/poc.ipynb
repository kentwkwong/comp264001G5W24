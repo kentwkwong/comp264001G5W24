{
 "cells": [
  {
   "cell_type": "code",
   "execution_count": 1,
   "metadata": {},
   "outputs": [
    {
     "name": "stderr",
     "output_type": "stream",
     "text": [
      "/Users/jk/Library/Python/3.9/lib/python/site-packages/urllib3/__init__.py:35: NotOpenSSLWarning: urllib3 v2 only supports OpenSSL 1.1.1+, currently the 'ssl' module is compiled with 'LibreSSL 2.8.3'. See: https://github.com/urllib3/urllib3/issues/3020\n",
      "  warnings.warn(\n"
     ]
    }
   ],
   "source": [
    "import requests\n",
    "import json\n"
   ]
  },
  {
   "cell_type": "code",
   "execution_count": 2,
   "metadata": {},
   "outputs": [],
   "source": [
    "stockcode = 'aapl'\n",
    "api_key = 'pub_41037c0421356130dd02f4829a24560ab0c1f'\n",
    "url = f'https://newsdata.io/api/1/news?apikey={api_key}&q={stockcode}&language=en'\n",
    "\n",
    "HEADER = {'accept': 'text/html,application/xhtml+xml,application/xml;q=0.9,image/avif,image/webp,image/apng,*/*;q=0.8,application/signed-exchange;v=b3;q=0.7',\n",
    " 'accept-language': 'en-US,en;q=0.9,ja;q=0.8',\n",
    " 'sec-ch-ua': '\"Google Chrome\";v=\"123\", \"Not:A-Brand\";v=\"8\", \"Chromium\";v=\"123\"',\n",
    " 'sec-ch-ua-mobile': '?0',\n",
    " 'sec-ch-ua-platform': '\"macOS\"',\n",
    " 'sec-fetch-dest': 'document',\n",
    " 'sec-fetch-mode': 'navigate',\n",
    " 'sec-fetch-site': 'none',\n",
    " 'sec-fetch-user': '?1',\n",
    " 'upgrade-insecure-requests': '1'}\n",
    "\n",
    "response = requests.get(url, headers=HEADER)\n"
   ]
  },
  {
   "cell_type": "code",
   "execution_count": 25,
   "metadata": {},
   "outputs": [
    {
     "data": {
      "text/plain": [
       "{'accept': 'text/html,application/xhtml+xml,application/xml;q=0.9,image/avif,image/webp,image/apng,*/*;q=0.8,application/signed-exchange;v=b3;q=0.7',\n",
       " 'accept-language': 'en-US,en;q=0.9,ja;q=0.8',\n",
       " 'sec-ch-ua': '\"Google Chrome\";v=\"123\", \"Not:A-Brand\";v=\"8\", \"Chromium\";v=\"123\"',\n",
       " 'sec-ch-ua-mobile': '?0',\n",
       " 'sec-ch-ua-platform': '\"macOS\"',\n",
       " 'sec-fetch-dest': 'document',\n",
       " 'sec-fetch-mode': 'navigate',\n",
       " 'sec-fetch-site': 'none',\n",
       " 'sec-fetch-user': '?1',\n",
       " 'upgrade-insecure-requests': '1'}"
      ]
     },
     "execution_count": 25,
     "metadata": {},
     "output_type": "execute_result"
    }
   ],
   "source": [
    "util.HEADER"
   ]
  },
  {
   "cell_type": "code",
   "execution_count": 24,
   "metadata": {},
   "outputs": [
    {
     "name": "stdout",
     "output_type": "stream",
     "text": [
      "Microsoft Corp. (NASDAQ:MSFT) and OpenAI are reportedly working on a supercomputer project called “Stargate” that could cost up to $100 billion. The project is expected to be operational by 2028. What Happened: Microsoft and OpenAI are in the process of planning a data center project that would include the launch of an artificial intelligence supercomputer, “Stargate,” in 2028, reported The Information. The project, which is expected to be financed by Microsoft, is projected to be 100 times more expensive than some of the largest existing data centers. It could require \"several\" hundred acres of land and require up to 5 gigawatts of power. Subscribe to the Benzinga Tech Trends newsletter to get all the latest tech developments delivered to your inbox. Interestingly, Microsoft paid $76 million to acquire a 407-acre pumpkin farm in Wisconsin in December. According ...Full story available on Benzinga.com\n",
      "None\n",
      "None\n",
      "NEW YORK, March 29, 2024 (GLOBE NEWSWIRE) -- Bragar Eagel & Squire, P.C., a nationally recognized stockholder rights law firm, is investigating potential claims against Apple Inc. (\"Apple\" or the \"Company\") (NASDAQ:AAPL) on behalf of Apple stockholders. Our investigation concerns whether Apple has violated the federal securities laws and/or engaged in other unlawful business practices. Click here to participate in the action. The focus of this investigation is whether Apple issued false and/or misleading statements and/or failed to disclose information relevant to investors. The US Justice Department and 16 attorneys general are suing the iPhone maker for violating antitrust laws. And in Europe, the company is said to be facing probes about whether it's complying with the region's Digital Markets ...Full story available on Benzinga.com\n",
      "NEW YORK, March 29, 2024 (GLOBE NEWSWIRE) -- Bragar Eagel & Squire, P.C., a nationally recognized stockholder rights law firm, is investigating potential claims against Apple Inc. (“Apple” or the “Company”) (NASDAQ: AAPL) on behalf of Apple stockholders. Our investigation concerns whether Apple has violated the federal securities laws and/or engaged in other unlawful business practices.\n",
      "InvestorPlace - Stock Market News, Stock Advice & Trading Tips Here are three of the best Magnificent 7 stocks with overlooked potential. Investors should consider buying them for the long term. The post The Magnificent 7’s Best-Kept Secrets: 3 Stocks with Overlooked Potential appeared first on InvestorPlace.\n",
      "This whale alert can help traders discover the next big trading opportunities. Whales are entities with large sums of money and we track their transactions here at Benzinga on our options activity scanner. Traders will search for circumstances when the market estimation of an option diverges heavily from its normal worth. High amounts of trading activity could push option prices to exaggerated or underestimated levels. Here's the list of options activity happening in today's session: Symbol PUT/CALL Trade Type Sentiment Exp. Date Strike Price Total Trade Price Open Interest Volume AAPL CALL SWEEP BEARISH 04/05/24 $172.50 $30.9K 8.4K 49.5K INTC CALL SWEEP BEARISH 04/05/24 $45.00 $37.3K 6.9K 20.6K NVDA CALL TRADE BEARISH 04/05/24 $900.00 $31.6K 6.4K 12.1K CSCO CALL TRADE BULLISH 06/21/24 $47.50 $25.5K 11.7K 1.5K SMTC PUT SWEEP BEARISH 05/17/24 $27.00 $37.0K 5 1.3K MU CALL TRADE BULLISH 04/19/24 $118.00 $103.5K 778 964 SNOW CALL TRADE BULLISH 04/19/24 $162.50 $103.3K 1.3K 896 U PUT TRADE BULLISH 09/20/24 $25.00 $610.0K 1.8K 773 ARM PUT SWEEP BEARISH 04/05/24 $125.00 $39.5K 2.0K 770 MSTR PUT TRADE BULLISH 04/05/24 $1600.00 $42.0K 159 621 Explanation These bullet-by-bullet explanations have been constructed using the accompanying table. • For AAPL (NASDAQ:AAPL), we notice a call option sweep that happens to be bearish, expiring in 7 day(s) on April 5, 2024. This event was a transfer of 222 contract(s) at a $172.50 strike. This particular call needed to be split into 11 different trades to become filled. The total cost received by the writing party (or parties) was $30.9K, with a price of $136.0 per contract. There were 8427 open contracts at this strike prior to today, and today 49574 contract(s) were bought and sold. • For INTC (NASDAQ:INTC), we notice a call option sweep that happens to be bearish, expiring in 7 day(s) on April 5, 2024. This event was a transfer of 544 contract(s) at a $45.00 strike. This particular call needed to be split into 19 different trades to become filled. The total cost received by the writing party (or parties) was $37.3K, with a price of $68.0 per contract. There were 6935 open contracts at this strike prior to today, and today 20624 contract(s) were bought and sold. • For NVDA (NASDAQ:NVDA), we notice a call option trade that happens to be bearish, expiring in 7 day(s) on April 5, 2024. This ...Full story available on Benzinga.com\n",
      "Apple (NASDAQ:AAPL) has outperformed the market over the past 15 years by 14.99% on an annualized basis producing an average annual return of 27.99%. Currently, Apple has a market capitalization of $2.64 trillion. Buying $100 In AAPL: If an ...Full story available on Benzinga.com\n",
      "None\n",
      "InvestorPlace - Stock Market News, Stock Advice & Trading Tips There is potential for many AI stocks to be long-term winners. and these three are in the early innings of a multi-year AI bull run. The post 3 AI Stocks That Could Be Multibaggers in the Making: March Edition appeared first on InvestorPlace. More From InvestorPlace The #1 AI Investment Might Be This Company You’ve Never Heard Of Musk’s “Project Omega” May Be Set to Mint New Millionaires. Here’s How to Get In. It doesn’t matter if you have $500 or $5 million. Do this now.\n"
     ]
    }
   ],
   "source": [
    "dict = response.text\n",
    "results = json.loads(dict)['results']\n",
    "for res in results:\n",
    "    # print(res['title'])\n",
    "    # print(res['description'])\n",
    "    print(res['description'])\n",
    "\n",
    "\n",
    "\n",
    "    # soup = BeautifulSoup(response.text, 'html.parser')\n",
    "    # print(soup)"
   ]
  }
 ],
 "metadata": {
  "kernelspec": {
   "display_name": "Python 3",
   "language": "python",
   "name": "python3"
  },
  "language_info": {
   "codemirror_mode": {
    "name": "ipython",
    "version": 3
   },
   "file_extension": ".py",
   "mimetype": "text/x-python",
   "name": "python",
   "nbconvert_exporter": "python",
   "pygments_lexer": "ipython3",
   "version": "3.9.6"
  }
 },
 "nbformat": 4,
 "nbformat_minor": 2
}
